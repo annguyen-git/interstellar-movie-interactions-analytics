{
 "cells": [
  {
   "cell_type": "code",
   "execution_count": null,
   "metadata": {},
   "outputs": [],
   "source": [
    "import requests\n",
    "import numpy\n",
    "import re"
   ]
  },
  {
   "cell_type": "code",
   "execution_count": null,
   "metadata": {},
   "outputs": [],
   "source": [
    "# First is to download the scripts from the internet\n",
    "# Disclaimer: I don't own any of these contents, they are available online with puplic access\n",
    "url_list = { '2014_script' : 'https://assets.scriptslug.com/live/pdf/scripts/interstellar-2014.pdf',\n",
    "           '2008_script': 'https://s3-us-west-2.amazonaws.com/screenplays-pdf/Movie-Screenplay-PDFs/Interstellar-Jonathan-Nolan.pdf'}\n",
    "\n",
    "def get_file(url_list):\n",
    "    for name, url in url_list.items():\n",
    "        response = requests.get(url)\n",
    "        if response.status_code == 200:\n",
    "            filename = f'{name}.pdf'\n",
    "            with open(filename,'wb') as file:\n",
    "                file.write(response.content)\n",
    "        else:\n",
    "            print(f\"Failed to download {name}, status code: {response.status_code}\")"
   ]
  },
  {
   "cell_type": "code",
   "execution_count": null,
   "metadata": {},
   "outputs": [],
   "source": []
  }
 ],
 "metadata": {
  "kernelspec": {
   "display_name": "base",
   "language": "python",
   "name": "python3"
  },
  "language_info": {
   "name": "python",
   "version": "3.12.4"
  }
 },
 "nbformat": 4,
 "nbformat_minor": 2
}
