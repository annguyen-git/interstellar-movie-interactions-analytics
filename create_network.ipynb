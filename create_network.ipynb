{
 "cells": [
  {
   "cell_type": "code",
   "execution_count": 1,
   "metadata": {},
   "outputs": [],
   "source": [
    "from utils.functions import get_files, parse_script, extract_character_names, count_interactions, count_interactions_df\n",
    "import re\n",
    "import networkx as nx\n",
    "from pyvis import network as net"
   ]
  },
  {
   "cell_type": "code",
   "execution_count": 2,
   "metadata": {},
   "outputs": [
    {
     "name": "stdout",
     "output_type": "stream",
     "text": [
      "Downloaded: data/2014_script.pdf\n",
      "Converted data/2014_script.pdf to data/2014_script.txt\n",
      "Downloaded: data/2008_script.pdf\n",
      "Converted data/2008_script.pdf to data/2008_script.txt\n"
     ]
    }
   ],
   "source": [
    "# First is to download the scripts from the internet\n",
    "# Disclaimer: I don't own any of these contents, they are available online with puplic access\n",
    "# URLs for downloading the PDFs\n",
    "url_list = {\n",
    "    '2014_script': 'https://assets.scriptslug.com/live/pdf/scripts/interstellar-2014.pdf',\n",
    "    '2008_script': 'https://s3-us-west-2.amazonaws.com/screenplays-pdf/Movie-Screenplay-PDFs/Interstellar-Jonathan-Nolan.pdf'\n",
    "}\n",
    "\n",
    "get_files(url_list)"
   ]
  },
  {
   "cell_type": "code",
   "execution_count": 3,
   "metadata": {},
   "outputs": [
    {
     "name": "stdout",
     "output_type": "stream",
     "text": [
      "Unique names in 2014 script: ['ADMINISTRATOR', 'BOOTS', 'BRAND', 'CASE', 'CB OPERATOR', 'COMPUTER VOICE', 'COOP', 'COOPER', 'DOCTOR', 'DONALD', 'DOYLE', 'DR MANN', 'ELDERLY FEMALE VOICE', 'ELDERLY WOMAN', 'GETTY', 'I N T E R S T E L L A R', 'INTERSTELLAR', 'KIPP', 'LOIS', 'MACHINE', 'MS HANLEY', 'MURPH', 'NURSE', 'OLD MAN', 'OMITTED', 'PILOT', 'PRINCIPAL', 'PROFESSOR BRAND', 'RADIO', 'ROMILLY', 'TARS', 'TOM', 'VOICE', 'WILLIAMS', 'WOMAN']\n",
      "Unique names in 2008 script: ['ADMINISTRATOR', 'ANSEN', 'ASSISTANT', 'BALLPLAYER', 'BLACK', 'BRAND', \"BRAND'S FATHER\", 'CASE', 'CHINESE OFFICER', 'COOPER', 'DOCTOR', 'DONALD', 'DOYLE', 'EMILY COOPER', 'END', 'ENGINEER ROBOT', 'FADE TO BLACK', 'FARMER', 'GOVERNMENT MAN', 'LIU', 'MURPH', \"MURPH'S WIFE\", 'NSA AGENT', 'OLD ENGINEER', 'OLD MAN', 'PRINCIPAL', 'RIGGS', 'ROBOT', 'ROTH', 'TARS', 'TOM', 'WIFE', 'WORLD FAMOUS NEW YORK YANKEES']\n",
      "Unchanged charcters: ['ADMINISTRATOR', 'BRAND', 'CASE', 'COOPER', 'DOCTOR', 'DONALD', 'DOYLE', 'MURPH', 'OLD MAN', 'PRINCIPAL', 'TARS', 'TOM']\n"
     ]
    }
   ],
   "source": [
    "with open('data/2014_script.txt', 'r') as file:\n",
    "    script_2014 = file.read()\n",
    "\n",
    "with open('data/2008_script.txt', 'r') as file:\n",
    "    script_2008 = file.read()\n",
    "\n",
    "# Extract names\n",
    "names_2014 = extract_character_names(script_2014)\n",
    "names_2008 = extract_character_names(script_2008)\n",
    "\n",
    "print(\"Unique names in 2014 script:\", names_2014)\n",
    "print(\"Unique names in 2008 script:\", names_2008)\n",
    "\n",
    "unchanged_character = [i for i in names_2008 if i in names_2014]\n",
    "print(\"Unchanged charcters:\", unchanged_character)"
   ]
  },
  {
   "cell_type": "markdown",
   "metadata": {},
   "source": [
    "The filter is not perfect, but it is simple enough to serve its purpose. I will remove non-character names from the analysis.\n",
    "\n",
    "The format of the script follows a repeated pattern, such as \"INT COOPER MURPH COOPER... EXT BRAND COOPER... INT.\" This pattern is straightforward enough to count interactions between each character. The method is to examine all the names that appear sequentially within a single scene, categorizing them as direct interactions. Names that appear with one name in between are counted as indirect interactions.\n",
    "\n",
    "This approach is not 100% perfect, as it only count dialogue rather than actions. However, these are in the minority (This is not an action movie!), as almost all scenes with at least two characters contain dialogue."
   ]
  },
  {
   "cell_type": "code",
   "execution_count": 4,
   "metadata": {},
   "outputs": [],
   "source": [
    "# First, let's examine the 2014 script\n",
    "with open('data/2014_script.txt', 'r') as file:\n",
    "    script_2014 = file.read()\n",
    "\n",
    "# Parse the script\n",
    "parsed_script_14 = parse_script(script_2014)\n",
    "\n",
    "# List of names to remove\n",
    "to_remove = [\n",
    "    'I N T E R S T E L L A R', 'INTERSTELLAR', 'VOICE', \n",
    "    'COMPUTER VOICE', 'CB OPERATOR', 'OMITTED', \n",
    "    'ELDERLY FEMALE VOICE', 'ELDERLY WOMAN'\n",
    "]\n",
    "parsed_script_14 = [item for item in parsed_script_14 if item not in to_remove]\n",
    "\n",
    "# Replacing alias, well, you need to watch the movie to know though...\n",
    "alias_mapping = {\n",
    "    'PILOT': 'COOPER',\n",
    "    'MACHINE': 'TARS',\n",
    "    'OLD MAN': 'PROFESSOR BRAND',\n",
    "    'RADIO': 'ATC'\n",
    "}\n",
    "parsed_script_14 = [alias_mapping.get(name, name) for name in parsed_script_14]\n",
    "\n",
    "# Sometimes, there are characters who appear as WOMAN or MAN (NAME) because their names haven’t been revealed yet. \n",
    "# I’ll handle these by going through the script line by line, starting from the end, \n",
    "# marking the line where their name is first introduced, and then replacing the alias above with their actual name.\n",
    "woman_names = []\n",
    "processed_script = []\n",
    "for line in reversed(parsed_script_14):\n",
    "    match = re.match(r'^\\s*[\\w\\s]+?\\s*\\((\\w+)\\)\\s*$', line)  # Match any format \"CHARACTER (name)\"\n",
    "    if match:\n",
    "        name = match.group(1)  # Extract only the name inside parentheses\n",
    "        \n",
    "        if \"WOMAN\" in line:\n",
    "            processed_script.append(name)  # Add the name to processed script\n",
    "            woman_names.append(name)       # Store name in woman_names list\n",
    "        else:\n",
    "            processed_script.append(name)  # For other characters, replace with the name\n",
    "    elif line == \"WOMAN\":\n",
    "        # If it's just WOMAN, replace it with the last known name in woman_names\n",
    "        if woman_names:\n",
    "            processed_script.append(woman_names[-1])  # Use the last known name\n",
    "        else:\n",
    "            processed_script.append(line)  # If no names, keep it as WOMAN\n",
    "    else:\n",
    "        processed_script.append(line) \n",
    "\n",
    "# Reverse the parsed script back\n",
    "parsed_script_14 = list(reversed(processed_script))\n",
    "my_list = ['apple\\n', 'banana\\n', 'cherry\\n', 'date\\n']\n",
    "\n",
    "# Open a text file in write mode\n",
    "with open('data/parsed_script_14.txt', 'w') as file:\n",
    "    for item in parsed_script_14:\n",
    "        file.write(item + '\\n')"
   ]
  },
  {
   "cell_type": "code",
   "execution_count": 5,
   "metadata": {},
   "outputs": [],
   "source": [
    "# 2008 script\n",
    "with open('data/2008_script.txt', 'r') as file:\n",
    "    script_2008 = file.read()\n",
    "\n",
    "# Parse the script\n",
    "parsed_script_08 = parse_script(script_2008)\n",
    "\n",
    "# List of names to remove\n",
    "to_remove2 = ['BLACK', 'WORLD FAMOUS NEW YORK YANKEES', 'END', 'FADE TO BLACK']\n",
    "parsed_script_08 = [item for item in parsed_script_08 if item not in to_remove2]\n",
    "\n",
    "alias_mapping2 = {\n",
    "    'ROBOT': 'TARS',\n",
    "    \"BRAND'S FATHER\": 'PROFESSOR BRAND',\n",
    "    'OLD ENGINEER': 'ASSISTANT'\n",
    "}\n",
    "parsed_script_08 = [alias_mapping2.get(name, name) for name in parsed_script_08]\n",
    "parsed_script_08 = [re.sub(r'\\s*\\(.*?\\)\\s*', '', name).strip() for name in parsed_script_08 if name.strip()]\n",
    "\n",
    "with open('data/parsed_script_08.txt', 'w') as file:\n",
    "    for item in parsed_script_08:\n",
    "        file.write(item + '\\n')"
   ]
  },
  {
   "cell_type": "code",
   "execution_count": 6,
   "metadata": {},
   "outputs": [],
   "source": [
    "# Count interactions 2014\n",
    "interactions_2014 = count_interactions_df(parsed_script_14)\n",
    "interactions_2014['total_interactions'] = interactions_2014['direct_interaction'] + interactions_2014['indirect_interaction']\n",
    "interactions_2014.to_csv('data/2014_script_interactions.csv', index=False)\n",
    "\n",
    "# Count interactions 2008\n",
    "interactions_2008 = count_interactions_df(parsed_script_08)\n",
    "interactions_2008['total_interactions'] = interactions_2008['direct_interaction'] + interactions_2008['indirect_interaction']\n",
    "interactions_2008.to_csv('data/2008_script_interactions.csv', index=False)"
   ]
  },
  {
   "cell_type": "code",
   "execution_count": 7,
   "metadata": {},
   "outputs": [],
   "source": [
    "# Set up networkx for 2 scripts\n",
    "G1 = nx.from_pandas_edgelist(interactions_2014,\n",
    "                             source = 'character1',\n",
    "                             target = 'character2',\n",
    "                             edge_attr = 'total_interactions',\n",
    "                             create_using = nx.Graph()\n",
    "                             )\n",
    "\n",
    "G2 = nx.from_pandas_edgelist(interactions_2008,\n",
    "                             source = 'character1',\n",
    "                             target = 'character2',\n",
    "                             edge_attr = 'total_interactions',\n",
    "                             create_using = nx.Graph()\n",
    "                             )"
   ]
  },
  {
   "cell_type": "code",
   "execution_count": 8,
   "metadata": {},
   "outputs": [],
   "source": [
    "# Set up network for G1\n",
    "net1 = net.Network(notebook=True, width='1200px', height='700px', cdn_resources='in_line', \n",
    "                   bgcolor=\"#222222\", font_color=\"white\")\n",
    "net1.barnes_hut(gravity=-5500, central_gravity=0.2, spring_length=200, spring_strength=0.05)\n",
    "\n",
    "# Add nodes\n",
    "for node, degree in G1.degree():\n",
    "    net1.add_node(node, size=degree * 2)\n",
    "\n",
    "# Add edges\n",
    "for u, v, data in G1.edges(data=True):\n",
    "    total_interactions = data['total_interactions']\n",
    "    thickness = total_interactions\n",
    "    net1.add_edge(u, v, value=total_interactions, title=str(total_interactions), width=thickness)\n",
    "    \n",
    "net1.save_graph('output/interstellar_2014.html')\n",
    "\n",
    "\n",
    "# Initialize Network for G2\n",
    "net2 = net.Network(notebook=True, width='1200px', height='700px', cdn_resources='in_line', \n",
    "                   bgcolor=\"#222222\", font_color=\"white\")\n",
    "net2.barnes_hut(gravity=-5500, central_gravity=0.2, spring_length=200, spring_strength=0.05)\n",
    "\n",
    "# Add nodes\n",
    "for node, degree in G2.degree():\n",
    "    net2.add_node(node, size=degree * 2)\n",
    "\n",
    "# Add edges\n",
    "for u, v, data in G2.edges(data=True):\n",
    "    total_interactions = data['total_interactions']\n",
    "    thickness = total_interactions\n",
    "    net2.add_edge(u, v, value=total_interactions, title=str(total_interactions), width=thickness)\n",
    "\n",
    "net2.save_graph('output/interstellar_2008.html')"
   ]
  }
 ],
 "metadata": {
  "kernelspec": {
   "display_name": "Python 3 (ipykernel)",
   "language": "python",
   "name": "python3"
  },
  "language_info": {
   "codemirror_mode": {
    "name": "ipython",
    "version": 3
   },
   "file_extension": ".py",
   "mimetype": "text/x-python",
   "name": "python",
   "nbconvert_exporter": "python",
   "pygments_lexer": "ipython3",
   "version": "3.12.4"
  }
 },
 "nbformat": 4,
 "nbformat_minor": 4
}
